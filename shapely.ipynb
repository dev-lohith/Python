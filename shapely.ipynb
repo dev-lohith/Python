{
 "cells": [
  {
   "cell_type": "code",
   "execution_count": 9,
   "id": "c987161b",
   "metadata": {},
   "outputs": [],
   "source": [
    "from shapely.geometry import Point,LineString,Polygon"
   ]
  },
  {
   "cell_type": "code",
   "execution_count": 19,
   "id": "a972de7f",
   "metadata": {},
   "outputs": [],
   "source": [
    "#lat, long to long, lat\n",
    "lat_long = (1.3347699693171575, 103.78652502685861)\n",
    "\n",
    "lat = lat_long[0]\n",
    "lon = lat_long[1]\n",
    "\n",
    "lon_lat = f\"{lon}, {lat}\""
   ]
  },
  {
   "cell_type": "code",
   "execution_count": 20,
   "id": "3b02de01",
   "metadata": {},
   "outputs": [
    {
     "data": {
      "text/plain": [
       "'103.78652502685861, 1.3347699693171575'"
      ]
     },
     "execution_count": 20,
     "metadata": {},
     "output_type": "execute_result"
    }
   ],
   "source": [
    "lon_lat"
   ]
  },
  {
   "cell_type": "code",
   "execution_count": 21,
   "id": "e5695025",
   "metadata": {},
   "outputs": [
    {
     "name": "stdout",
     "output_type": "stream",
     "text": [
      "POINT (103.8507488112538 1.304948937367825)\n",
      "POINT (103.8134244857907 1.323519746964803)\n",
      "LINESTRING (103.8507488112538 1.304948937367825, 103.8134244857907 1.323519746964803, 103.7865250268586 1.334769969317158)\n"
     ]
    },
    {
     "data": {
      "image/svg+xml": [
       "<svg xmlns=\"http://www.w3.org/2000/svg\" xmlns:xlink=\"http://www.w3.org/1999/xlink\" width=\"100.0\" height=\"100.0\" viewBox=\"103.7839560754828 1.302379985992017 0.06936168714680946 0.03495893470094824\" preserveAspectRatio=\"xMinYMin meet\"><g transform=\"matrix(1,0,0,-1,0,2.6397189066849824)\"><polyline fill=\"none\" stroke=\"#66cc99\" stroke-width=\"0.0013872337429361892\" points=\"103.85074881125381,1.304948937367825 103.81342448579066,1.3235197469648032 103.78652502685861,1.3347699693171575\" opacity=\"0.8\" /></g></svg>"
      ],
      "text/plain": [
       "<shapely.geometry.linestring.LineString at 0x7fd549ef9f10>"
      ]
     },
     "execution_count": 21,
     "metadata": {},
     "output_type": "execute_result"
    }
   ],
   "source": [
    "#point\n",
    "point0 = Point(103.85074881125381, 1.304948937367825)\n",
    "point1 = Point(103.81342448579066, 1.3235197469648032)\n",
    "point2 = Point(103.78652502685861, 1.3347699693171575)\n",
    "print(point0)\n",
    "print(point1)\n",
    "\n",
    "#linestring\n",
    "line0 = LineString([point0,point1,point2])\n",
    "print(line0)\n",
    "line0"
   ]
  },
  {
   "cell_type": "code",
   "execution_count": 45,
   "id": "25f3d050",
   "metadata": {},
   "outputs": [
    {
     "data": {
      "text/plain": [
       "0.02253886062784467"
      ]
     },
     "execution_count": 45,
     "metadata": {},
     "output_type": "execute_result"
    }
   ],
   "source": [
    "line0.length"
   ]
  },
  {
   "cell_type": "code",
   "execution_count": 22,
   "id": "bc14028f",
   "metadata": {},
   "outputs": [
    {
     "data": {
      "image/svg+xml": [
       "<svg xmlns=\"http://www.w3.org/2000/svg\" xmlns:xlink=\"http://www.w3.org/1999/xlink\" width=\"100.0\" height=\"100.0\" viewBox=\"103.7839560754828 1.302379985992017 0.06936168714680946 0.03495893470094824\" preserveAspectRatio=\"xMinYMin meet\"><g transform=\"matrix(1,0,0,-1,0,2.6397189066849824)\"><path fill-rule=\"evenodd\" fill=\"#66cc99\" stroke=\"#555555\" stroke-width=\"0.0013872337429361892\" opacity=\"0.6\" d=\"M 103.85074881125381,1.304948937367825 L 103.81342448579066,1.3235197469648032 L 103.78652502685861,1.3347699693171575 L 103.85074881125381,1.304948937367825 z\" /></g></svg>"
      ],
      "text/plain": [
       "<shapely.geometry.polygon.Polygon at 0x7fd548148250>"
      ]
     },
     "execution_count": 22,
     "metadata": {},
     "output_type": "execute_result"
    }
   ],
   "source": [
    "polygon0 = Polygon([point0,point1,point2])\n",
    "polygon0"
   ]
  },
  {
   "cell_type": "code",
   "execution_count": 42,
   "id": "98b929bd",
   "metadata": {},
   "outputs": [
    {
     "data": {
      "image/svg+xml": [
       "<svg xmlns=\"http://www.w3.org/2000/svg\" xmlns:xlink=\"http://www.w3.org/1999/xlink\" width=\"100.0\" height=\"100.0\" viewBox=\"16.436798441073144 77.3839867511533 2.0 2.0\" preserveAspectRatio=\"xMinYMin meet\"><g transform=\"matrix(1,0,0,-1,0,156.7679735023066)\"><circle cx=\"17.436798441073144\" cy=\"78.3839867511533\" r=\"0.06\" stroke=\"#555555\" stroke-width=\"0.02\" fill=\"#66cc99\" opacity=\"0.6\" /></g></svg>"
      ],
      "text/plain": [
       "<shapely.geometry.point.Point at 0x7f2bb4e6d520>"
      ]
     },
     "execution_count": 42,
     "metadata": {},
     "output_type": "execute_result"
    }
   ],
   "source": [
    "polygon0.centroid"
   ]
  },
  {
   "cell_type": "code",
   "execution_count": 44,
   "id": "264a4af2",
   "metadata": {},
   "outputs": [
    {
     "name": "stdout",
     "output_type": "stream",
     "text": [
      "centroid : POINT (17.43679844107314 78.3839867511533)\n",
      "area : 3.823965539822438e-05\n",
      "bounds : (17.431028574611737, 78.37630606912064, 17.441497190541156, 78.38799279705773)\n",
      "exterior : LINEARRING (17.43786955806654 78.38766138728157, 17.43102857461174 78.38799279705773, 17.44149719054116 78.37630606912064, 17.43786955806654 78.38766138728157)\n",
      "length : 0.03445955557011635\n"
     ]
    }
   ],
   "source": [
    "print(f\"centroid : {polygon0.centroid}\")\n",
    "print(f\"area : {polygon0.area}\")\n",
    "print(f\"bounds : {polygon0.bounds}\")\n",
    "print(f\"exterior : {polygon0.exterior}\")\n",
    "print(f\"length : {polygon0.length}\")"
   ]
  },
  {
   "cell_type": "code",
   "execution_count": 23,
   "id": "dd822046",
   "metadata": {},
   "outputs": [
    {
     "data": {
      "text/plain": [
       "[(17.437869558066538, 78.38766138728157)]"
      ]
     },
     "execution_count": 23,
     "metadata": {},
     "output_type": "execute_result"
    }
   ],
   "source": [
    "list(point0.coords)"
   ]
  },
  {
   "cell_type": "code",
   "execution_count": 35,
   "id": "78eca4c6",
   "metadata": {},
   "outputs": [
    {
     "data": {
      "text/plain": [
       "'Point'"
      ]
     },
     "execution_count": 35,
     "metadata": {},
     "output_type": "execute_result"
    }
   ],
   "source": [
    "point0.geom_type"
   ]
  },
  {
   "cell_type": "code",
   "execution_count": 36,
   "id": "360dbe69",
   "metadata": {},
   "outputs": [
    {
     "data": {
      "text/plain": [
       "'LineString'"
      ]
     },
     "execution_count": 36,
     "metadata": {},
     "output_type": "execute_result"
    }
   ],
   "source": [
    "line0.geom_type"
   ]
  },
  {
   "cell_type": "code",
   "execution_count": 25,
   "id": "69369b03",
   "metadata": {},
   "outputs": [
    {
     "name": "stdout",
     "output_type": "stream",
     "text": [
      "17.437869558066538\n",
      "78.38766138728157\n"
     ]
    }
   ],
   "source": [
    "x = point0.x\n",
    "y = point0.y\n",
    "print(x)\n",
    "print(y)"
   ]
  },
  {
   "cell_type": "code",
   "execution_count": 28,
   "id": "d578c92b",
   "metadata": {},
   "outputs": [
    {
     "name": "stdout",
     "output_type": "stream",
     "text": [
      "0.011920694942271683\n",
      "0.011920694942271683\n"
     ]
    }
   ],
   "source": [
    "distance = point0.distance(point1)\n",
    "print(distance)\n",
    "print(point0.hausdorff_distance(point1))"
   ]
  },
  {
   "cell_type": "code",
   "execution_count": null,
   "id": "b71278f5",
   "metadata": {},
   "outputs": [],
   "source": []
  }
 ],
 "metadata": {
  "kernelspec": {
   "display_name": "Python 3 (ipykernel)",
   "language": "python",
   "name": "python3"
  },
  "language_info": {
   "codemirror_mode": {
    "name": "ipython",
    "version": 3
   },
   "file_extension": ".py",
   "mimetype": "text/x-python",
   "name": "python",
   "nbconvert_exporter": "python",
   "pygments_lexer": "ipython3",
   "version": "3.10.12"
  }
 },
 "nbformat": 4,
 "nbformat_minor": 5
}
