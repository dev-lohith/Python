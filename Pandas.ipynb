{
 "cells": [
  {
   "cell_type": "markdown",
   "id": "da752d3f",
   "metadata": {},
   "source": [
    "# pandas"
   ]
  },
  {
   "cell_type": "code",
   "execution_count": null,
   "id": "76782884",
   "metadata": {},
   "outputs": [],
   "source": [
    "import pandas as pd"
   ]
  },
  {
   "cell_type": "code",
   "execution_count": null,
   "id": "b469d89f",
   "metadata": {},
   "outputs": [],
   "source": [
    "pd.DataFrame(gdf)"
   ]
  },
  {
   "cell_type": "code",
   "execution_count": null,
   "id": "ffdf8448",
   "metadata": {},
   "outputs": [],
   "source": [
    "#csv\n",
    "df = pd.read_csv('filename.csv')\n",
    "#excel file with multiple tabs\n",
    "df = pd.read_excel('./files/worksheetname.xlsx','tab_name',header=1)\n",
    "df = pd.ExcelFile('./spreadsheet.xlsx')"
   ]
  },
  {
   "cell_type": "markdown",
   "id": "540431ee",
   "metadata": {},
   "source": [
    "# Summary"
   ]
  },
  {
   "cell_type": "code",
   "execution_count": null,
   "id": "69d226a9",
   "metadata": {},
   "outputs": [],
   "source": [
    "df.shape\n",
    "df.head()\n",
    "df.info\n",
    "df.describe()\n",
    "df[''].value_counts()"
   ]
  },
  {
   "cell_type": "code",
   "execution_count": null,
   "id": "ffffa4a3",
   "metadata": {},
   "outputs": [],
   "source": [
    "df.isna()\n",
    "df.notna()"
   ]
  },
  {
   "cell_type": "markdown",
   "id": "e817fe0c",
   "metadata": {},
   "source": [
    "# Filter"
   ]
  },
  {
   "cell_type": "code",
   "execution_count": null,
   "id": "b92ba184",
   "metadata": {},
   "outputs": [],
   "source": [
    "df_filter = df[df[\"column\"].str.contains(\"/\")==False]\n",
    "\n",
    "df[df['column']==1]\n",
    "df[df['column']=='']\n",
    "df[df['column'] != '-']\n",
    "\n",
    "filter_list = ['a','b','c']\n",
    "df_filter = df[df[\"column\"].isin(filter_list) == False]"
   ]
  },
  {
   "cell_type": "markdown",
   "id": "77becbe1",
   "metadata": {},
   "source": [
    "# Data Manipulation"
   ]
  },
  {
   "cell_type": "code",
   "execution_count": null,
   "id": "74a32c55",
   "metadata": {},
   "outputs": [],
   "source": [
    "df.rename(columns={\"a\":\"A\",\"b\":\"B\",\"c\":\"C\"})"
   ]
  },
  {
   "cell_type": "code",
   "execution_count": null,
   "id": "229384e4",
   "metadata": {},
   "outputs": [],
   "source": [
    "#concat\n",
    "df1 = pd.DataFrame({'A': ['A0', 'A1'], 'B': ['B0', 'B1']})\n",
    "df2 = pd.DataFrame({'A': ['A2', 'A3'], 'B': ['B2', 'B3']})\n",
    "\n",
    "result = pd.concat([df1, df2])\n",
    "result = pd.concat([df1, df2], axis=1)\n",
    "result = pd.concat([df1, df2], keys=['x', 'y'])\n",
    "\n",
    "pd.concat(objs, axis=0, join='outer', ignore_index=False, keys=None, levels=None, names=None, verify_integrity=False, sort=False, copy=True)\n"
   ]
  },
  {
   "cell_type": "code",
   "execution_count": null,
   "id": "d8135d69",
   "metadata": {},
   "outputs": [],
   "source": [
    "#translate\n",
    "df['Translated_input'] = df['input'].apply(lambda x: TextBlob(str(x)).translate(to='en'))"
   ]
  },
  {
   "cell_type": "code",
   "execution_count": null,
   "id": "389b56b3",
   "metadata": {},
   "outputs": [],
   "source": [
    "#drop\n",
    "df.drop(df[df['column'] =='-'].index, inplace=True)"
   ]
  },
  {
   "cell_type": "markdown",
   "id": "44b70c66",
   "metadata": {},
   "source": [
    "# To_File"
   ]
  },
  {
   "cell_type": "code",
   "execution_count": null,
   "id": "c2a755d3",
   "metadata": {},
   "outputs": [],
   "source": [
    "df.to_csv(f\"{filename}.csv\")"
   ]
  },
  {
   "cell_type": "code",
   "execution_count": null,
   "id": "7bd1b77a",
   "metadata": {},
   "outputs": [],
   "source": [
    "df['column'].to_csv(f'{filename}.csv', index = False)"
   ]
  },
  {
   "cell_type": "markdown",
   "id": "e52d7cb1",
   "metadata": {},
   "source": [
    "# Settings"
   ]
  },
  {
   "cell_type": "code",
   "execution_count": null,
   "id": "70416443",
   "metadata": {},
   "outputs": [],
   "source": [
    "pd.set_option(\"display.max_rows\", None, \"display.max_columns\", None)"
   ]
  }
 ],
 "metadata": {
  "kernelspec": {
   "display_name": "Python 3 (ipykernel)",
   "language": "python",
   "name": "python3"
  },
  "language_info": {
   "codemirror_mode": {
    "name": "ipython",
    "version": 3
   },
   "file_extension": ".py",
   "mimetype": "text/x-python",
   "name": "python",
   "nbconvert_exporter": "python",
   "pygments_lexer": "ipython3",
   "version": "3.10.12"
  }
 },
 "nbformat": 4,
 "nbformat_minor": 5
}
