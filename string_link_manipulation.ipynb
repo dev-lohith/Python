{
 "cells": [
  {
   "cell_type": "markdown",
   "id": "5f324be1-77ec-465f-b18a-1e7dfdf8df04",
   "metadata": {},
   "source": [
    "# String Manipulation"
   ]
  },
  {
   "cell_type": "code",
   "execution_count": 1,
   "id": "c52c60e4-5ac1-46cf-b1cc-c4a4d5daa5e8",
   "metadata": {},
   "outputs": [
    {
     "name": "stdout",
     "output_type": "stream",
     "text": [
      "9262580471 n9262580227 n9262580226\n"
     ]
    }
   ],
   "source": [
    "#series to list\n",
    "ids = ['9262580471','9262580227','9262580226']\n",
    "\n",
    "#change only return ## ids\n",
    "def convert(ids):\n",
    "    return ' n'.join(ids)\n",
    "      \n",
    "# Driver code\n",
    "print(convert(ids))"
   ]
  },
  {
   "cell_type": "code",
   "execution_count": 2,
   "id": "e9d64edf-965f-453e-abd1-686819a779ff",
   "metadata": {},
   "outputs": [
    {
     "name": "stdout",
     "output_type": "stream",
     "text": [
      "Hyd0\n",
      "Hyd1\n",
      "Hyd2\n",
      "Hyd3\n",
      "Hyd4\n"
     ]
    }
   ],
   "source": [
    "city='Hyd'\n",
    "city_number=0\n",
    "\n",
    "for each in range(5): \n",
    "    print(f\"{city}{city_number}\")\n",
    "    city_number+=1"
   ]
  },
  {
   "cell_type": "markdown",
   "id": "5c2cfd7c-c0d8-446b-a338-db41daae7104",
   "metadata": {},
   "source": [
    "# Custom links_generation"
   ]
  },
  {
   "cell_type": "code",
   "execution_count": null,
   "id": "3e620de4-2af4-4ea3-9719-107f618c4721",
   "metadata": {},
   "outputs": [],
   "source": [
    "lat = -6.861778\n",
    "long = 107.585200\n",
    "\n",
    "mapillary_link = f'https://www.mapillary.com/app/?lat={lat}&lng={long}&z=19.9'\n",
    "karta_view_link = f'https://kartaview.org/map/@{lat},{long},22z'\n",
    "\n",
    "print(mapillary_link)\n",
    "print(karta_view_link)\n",
    "\n",
    "df['mapillary_link']=df.apply(lambda x: f\"https://www.mapillary.com/app/?lat={x.latitude:0}&lng={x.longitude:0}&z=19.9\", axis=1)\n",
    "df['karta_view_link']=df.apply(lambda x: f\"https://kartaview.org/map/@{x.latitude:0},{x.longitude:0},22z\", axis=1)\n",
    "gdf['google_sv']=gdf.apply(lambda x: f\"https://www.google.com/maps/@{x.lat:0},{x.lon:0},3a,75y,349.39h,90t/data=!3m10!1e1!3m8!1sXirxSZDmqG-Ctu0ZfSAgtQ!2e0!6shttps:%2F%2Fstreetviewpixels-pa.googleapis.com%2Fv1%2Fthumbnail%3Fpanoid%3DXirxSZDmqG-Ctu0ZfSAgtQ%26cb_client%3Dmaps_sv.tactile.gps%26w%3D203%26h%3D100%26yaw%3D154.0295%26pitch%3D0%26thumbfov%3D100!7i16384!8i8192!9m2!1b1!2i41\", axis=1)"
   ]
  }
 ],
 "metadata": {
  "kernelspec": {
   "display_name": "Python 3 (ipykernel)",
   "language": "python",
   "name": "python3"
  },
  "language_info": {
   "codemirror_mode": {
    "name": "ipython",
    "version": 3
   },
   "file_extension": ".py",
   "mimetype": "text/x-python",
   "name": "python",
   "nbconvert_exporter": "python",
   "pygments_lexer": "ipython3",
   "version": "3.10.12"
  }
 },
 "nbformat": 4,
 "nbformat_minor": 5
}
