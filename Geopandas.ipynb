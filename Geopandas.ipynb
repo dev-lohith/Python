{
 "cells": [
  {
   "cell_type": "markdown",
   "id": "ec2a35c4",
   "metadata": {},
   "source": [
    "# Import"
   ]
  },
  {
   "cell_type": "code",
   "execution_count": null,
   "id": "d4a40894",
   "metadata": {},
   "outputs": [],
   "source": [
    "import geopandas as gpd"
   ]
  },
  {
   "cell_type": "code",
   "execution_count": null,
   "id": "9847f637",
   "metadata": {},
   "outputs": [],
   "source": [
    "# Read File\n",
    "gdf = gpd.read_file(\"\")"
   ]
  },
  {
   "cell_type": "code",
   "execution_count": null,
   "id": "0581a2e6",
   "metadata": {},
   "outputs": [],
   "source": [
    "# Dataframe to Geodataframe\n",
    "df_gdf = gpd.GeoDataFrame(\n",
    "    df, geometry=gpd.points_from_xy(df.longitude, df.latitude, crs=))"
   ]
  },
  {
   "cell_type": "code",
   "execution_count": null,
   "id": "769666de",
   "metadata": {},
   "outputs": [],
   "source": [
    "#latlong split\n",
    "gdf['lon'] = gdf.geometry.apply(lambda p: p.x)\n",
    "gdf['lat'] = gdf.geometry.apply(lambda p: p.y)"
   ]
  },
  {
   "cell_type": "code",
   "execution_count": null,
   "id": "8991a3c2",
   "metadata": {},
   "outputs": [],
   "source": [
    "# Set or Change CRS\n",
    "gdf.set_crs(4326)\n",
    "gdf.to_crs(4326)"
   ]
  },
  {
   "cell_type": "code",
   "execution_count": null,
   "id": "74eecce4",
   "metadata": {},
   "outputs": [],
   "source": [
    "#clipping\n",
    "gdf.clip(clip_boundary)\n",
    "gpd.clip(gdf, boundary_gdf)"
   ]
  },
  {
   "cell_type": "code",
   "execution_count": null,
   "id": "5ab066a3",
   "metadata": {},
   "outputs": [],
   "source": [
    "# join\n",
    "gpd.sjoin(gdf1,gdf2, how=\"inner\", op='intersects')\n",
    "\n",
    "# Joining two GeoDataFrames based on a common attribute\n",
    "merged_gdf = gdf.merge(another_gdf, on='common_column')"
   ]
  },
  {
   "cell_type": "code",
   "execution_count": null,
   "id": "eaf85199",
   "metadata": {},
   "outputs": [],
   "source": [
    "# Calculating the area of each polygon \n",
    "gdf['polygon_area'] = gdf.area"
   ]
  },
  {
   "cell_type": "code",
   "execution_count": null,
   "id": "c5b917b7",
   "metadata": {},
   "outputs": [],
   "source": [
    "gdf['geometry'].representative_point()\n",
    "gdf['centroids'] = gdf['geometry'].centroid"
   ]
  },
  {
   "cell_type": "code",
   "execution_count": null,
   "id": "d10deb50",
   "metadata": {},
   "outputs": [],
   "source": [
    "boundary.dissolve(by='merge')"
   ]
  },
  {
   "cell_type": "code",
   "execution_count": null,
   "id": "9b28a4b2",
   "metadata": {},
   "outputs": [],
   "source": [
    "boundary.geometry.unary_union\n",
    "# Example: Buffer operation\n",
    "buffered_gdf = gdf.buffer(0.01)"
   ]
  },
  {
   "cell_type": "code",
   "execution_count": null,
   "id": "54cf345a",
   "metadata": {},
   "outputs": [],
   "source": [
    "complete_boundary_explode.geometry = complete_boundary_explode.geometry.apply(lambda x: Polygon(x.coords))"
   ]
  },
  {
   "cell_type": "code",
   "execution_count": null,
   "id": "1c63bd04",
   "metadata": {},
   "outputs": [],
   "source": [
    "gdf.to_file(\"path/file.geojson\", driver='GeoJSON')"
   ]
  }
 ],
 "metadata": {
  "kernelspec": {
   "display_name": "Python 3 (ipykernel)",
   "language": "python",
   "name": "python3"
  },
  "language_info": {
   "codemirror_mode": {
    "name": "ipython",
    "version": 3
   },
   "file_extension": ".py",
   "mimetype": "text/x-python",
   "name": "python",
   "nbconvert_exporter": "python",
   "pygments_lexer": "ipython3",
   "version": "3.10.12"
  }
 },
 "nbformat": 4,
 "nbformat_minor": 5
}
